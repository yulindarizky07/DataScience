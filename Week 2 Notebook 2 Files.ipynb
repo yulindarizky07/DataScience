{
 "cells": [
  {
   "cell_type": "markdown",
   "id": "292c0605",
   "metadata": {},
   "source": [
    "# Week 2 Notebook 2 Files\n",
    "\n",
    "## Overview\n",
    "\n",
    "Nama : Yulinda Rizky Angelia Mursalim\n",
    "\n",
    "NIM : E1E121017"
   ]
  },
  {
   "cell_type": "markdown",
   "id": "d51d3e0a",
   "metadata": {},
   "source": [
    "## Exercise\n",
    "\n",
    "Write the code to open the 'invoices.csv' file for reading, and then print only the heading 'Invoice No' and the data for the invoice numbers.\n",
    "\n",
    "Use the following comments to guide you"
   ]
  },
  {
   "cell_type": "code",
   "execution_count": 3,
   "id": "57fbc0fb",
   "metadata": {},
   "outputs": [
    {
     "name": "stdout",
     "output_type": "stream",
     "text": [
      "   Invoice No              Customer Name          Date  Invoice Amount\n",
      "0       13002   Lighthouse Entertainment   13 Jan 2020          $45.60\n",
      "1       13003           Main Street News   13 Jan 2020         $100.20\n",
      "2       13003             Lee Enterprise   14 Jan 2020          $30.00\n",
      "3       13004                 Raju Store   14 Jan 2020         $300.20\n"
     ]
    }
   ],
   "source": [
    "import pandas as pd\n",
    "\n",
    "df = pd.read_csv('invoices.csv')\n",
    "print(df)"
   ]
  },
  {
   "cell_type": "code",
   "execution_count": 4,
   "id": "92b1444f",
   "metadata": {},
   "outputs": [
    {
     "name": "stdout",
     "output_type": "stream",
     "text": [
      "13002\n",
      "13003\n",
      "13003\n",
      "13004\n"
     ]
    }
   ],
   "source": [
    "for index, row in df.iterrows():\n",
    "    print(row['Invoice No'])"
   ]
  },
  {
   "cell_type": "code",
   "execution_count": 5,
   "id": "647f1f49",
   "metadata": {},
   "outputs": [
    {
     "name": "stdout",
     "output_type": "stream",
     "text": [
      "['Invoice No', ' Customer Name', ' Date', ' Invoice Amount']\n"
     ]
    }
   ],
   "source": [
    "df = pd.read_csv('invoices.csv', header=0)\n",
    "with open('invoices.csv', 'r') as file:\n",
    "    first_line = file.readline()\n",
    "\n",
    "header_names = first_line.strip().split(',')\n",
    "\n",
    "print(header_names)"
   ]
  },
  {
   "cell_type": "code",
   "execution_count": 6,
   "id": "275fb2b3",
   "metadata": {},
   "outputs": [
    {
     "name": "stdout",
     "output_type": "stream",
     "text": [
      "First header name: Invoice No\n"
     ]
    }
   ],
   "source": [
    "header_names = first_line.strip().split(',')\n",
    "\n",
    "print(\"First header name:\", header_names[0])"
   ]
  },
  {
   "cell_type": "code",
   "execution_count": 7,
   "id": "77ed68a3",
   "metadata": {},
   "outputs": [
    {
     "name": "stdout",
     "output_type": "stream",
     "text": [
      "First header name: Invoice No\n",
      "First element of the rest of the header names:\n",
      " Customer Name\n",
      " Date\n",
      " Invoice Amount\n"
     ]
    }
   ],
   "source": [
    "header_names = first_line.strip().split(',')\n",
    "\n",
    "print(\"First header name:\", header_names[0])\n",
    "\n",
    "print(\"First element of the rest of the header names:\")\n",
    "for header in header_names[1:]:\n",
    "    first_element = header.split(',')[0]\n",
    "    print(first_element)"
   ]
  },
  {
   "cell_type": "code",
   "execution_count": 8,
   "id": "bc327925",
   "metadata": {},
   "outputs": [],
   "source": [
    "file.close()"
   ]
  },
  {
   "cell_type": "markdown",
   "id": "071d6725",
   "metadata": {},
   "source": [
    "Being able to extract just the invoice numbers is useful, because it will help us to keep track of the running number.\n",
    "\n",
    "In this lesson, we have learned how to read and write from files. However, there are many data science libraries that have simplified these operations, and we will make use of the pandas library to read CSV files.\n",
    "\n"
   ]
  }
 ],
 "metadata": {
  "kernelspec": {
   "display_name": "Python 3 (ipykernel)",
   "language": "python",
   "name": "python3"
  },
  "language_info": {
   "codemirror_mode": {
    "name": "ipython",
    "version": 3
   },
   "file_extension": ".py",
   "mimetype": "text/x-python",
   "name": "python",
   "nbconvert_exporter": "python",
   "pygments_lexer": "ipython3",
   "version": "3.9.12"
  }
 },
 "nbformat": 4,
 "nbformat_minor": 5
}
