{
 "cells": [
  {
   "cell_type": "markdown",
   "metadata": {},
   "source": [
    "# Week 2 Notebook 1 Overview\n",
    "\n",
    "## Collections\n",
    "\n",
    "Nama : Yulinda Rizky Angelia Mursalim\n",
    "\n",
    "NIM : E1E121017"
   ]
  },
  {
   "cell_type": "markdown",
   "metadata": {},
   "source": [
    "## Exercises"
   ]
  },
  {
   "cell_type": "markdown",
   "metadata": {},
   "source": [
    "Create the list in the cell below:\n"
   ]
  },
  {
   "cell_type": "code",
   "execution_count": 1,
   "metadata": {},
   "outputs": [
    {
     "name": "stdout",
     "output_type": "stream",
     "text": [
      "['Java', 'Python', 'C++', 'Kotlin']\n"
     ]
    }
   ],
   "source": [
    "languages = [\"Java\", \"Python\", \"C++\", \"Kotlin\"]\n",
    "print(languages)"
   ]
  },
  {
   "cell_type": "markdown",
   "metadata": {},
   "source": [
    "Q1. Print the second element in the list using its index."
   ]
  },
  {
   "cell_type": "code",
   "execution_count": 1,
   "metadata": {},
   "outputs": [
    {
     "name": "stdout",
     "output_type": "stream",
     "text": [
      "Python\n"
     ]
    }
   ],
   "source": [
    "languages = [\"Java\", \"Python\", \"C++\", \"Kotlin\"]\n",
    "print(languages[1])\n"
   ]
  },
  {
   "cell_type": "markdown",
   "metadata": {},
   "source": [
    "Q2. Print the last element in the list."
   ]
  },
  {
   "cell_type": "code",
   "execution_count": 2,
   "metadata": {},
   "outputs": [
    {
     "name": "stdout",
     "output_type": "stream",
     "text": [
      "Kotlin\n"
     ]
    }
   ],
   "source": [
    "languages = [\"Java\", \"Python\", \"C++\", \"Kotlin\"]\n",
    "print(languages[-1]) "
   ]
  },
  {
   "cell_type": "markdown",
   "metadata": {},
   "source": [
    "Q3. Using slicing, print the elements \"Java\" and \"C++\""
   ]
  },
  {
   "cell_type": "code",
   "execution_count": 3,
   "metadata": {},
   "outputs": [
    {
     "name": "stdout",
     "output_type": "stream",
     "text": [
      "['Java', 'C++']\n"
     ]
    }
   ],
   "source": [
    "languages = [\"Java\", \"Python\", \"C++\", \"Kotlin\"]\n",
    "selected_languages = languages[::2]\n",
    "print(selected_languages)"
   ]
  },
  {
   "cell_type": "markdown",
   "metadata": {},
   "source": [
    "Q4. Add the language \"R\" in the list so that it appears *before* \"Python\""
   ]
  },
  {
   "cell_type": "code",
   "execution_count": 4,
   "metadata": {},
   "outputs": [
    {
     "name": "stdout",
     "output_type": "stream",
     "text": [
      "['Java', 'R', 'Python', 'C++', 'Kotlin']\n"
     ]
    }
   ],
   "source": [
    "languages = [\"Java\", \"Python\", \"C++\", \"Kotlin\"]\n",
    "languages.insert(1, \"R\")\n",
    "print(languages)"
   ]
  },
  {
   "cell_type": "markdown",
   "metadata": {},
   "source": [
    "Q5. Remove the last element in the list."
   ]
  },
  {
   "cell_type": "code",
   "execution_count": 5,
   "metadata": {},
   "outputs": [
    {
     "name": "stdout",
     "output_type": "stream",
     "text": [
      "['Java', 'Python', 'C++']\n"
     ]
    }
   ],
   "source": [
    "languages = [\"Java\", \"Python\", \"C++\", \"Kotlin\"]\n",
    "languages.pop(-1)\n",
    "print(languages)"
   ]
  },
  {
   "cell_type": "markdown",
   "metadata": {},
   "source": [
    "Q6. Change the list to a tuple and run the cells for the rest of the commands that you have written. Which ones can execute without errors?\n"
   ]
  },
  {
   "cell_type": "code",
   "execution_count": 7,
   "metadata": {},
   "outputs": [
    {
     "name": "stdout",
     "output_type": "stream",
     "text": [
      "Python\n"
     ]
    }
   ],
   "source": [
    "languages = (\"Java\", \"Python\", \"C++\", \"Kotlin\")\n",
    "print(languages[1])"
   ]
  },
  {
   "cell_type": "code",
   "execution_count": 8,
   "metadata": {},
   "outputs": [
    {
     "name": "stdout",
     "output_type": "stream",
     "text": [
      "Kotlin\n"
     ]
    }
   ],
   "source": [
    "languages = (\"Java\", \"Python\", \"C++\", \"Kotlin\")\n",
    "print(languages[-1])"
   ]
  },
  {
   "cell_type": "code",
   "execution_count": 9,
   "metadata": {},
   "outputs": [
    {
     "name": "stdout",
     "output_type": "stream",
     "text": [
      "('Java', 'C++')\n"
     ]
    }
   ],
   "source": [
    "languages = (\"Java\", \"Python\", \"C++\", \"Kotlin\")\n",
    "print(languages[::2])"
   ]
  },
  {
   "cell_type": "markdown",
   "metadata": {},
   "source": [
    "Q7. Change the list of a set and run the commands for the rest of the commands that you have written. Which ones can execute without errors? "
   ]
  },
  {
   "cell_type": "code",
   "execution_count": 10,
   "metadata": {},
   "outputs": [
    {
     "name": "stdout",
     "output_type": "stream",
     "text": [
      "{'Kotlin', 'Java', 'Python', 'C++'}\n"
     ]
    }
   ],
   "source": [
    "languages = {\"Java\", \"Python\", \"C++\", \"Kotlin\"}\n",
    "print(languages)"
   ]
  }
 ],
 "metadata": {
  "kernelspec": {
   "display_name": "Python 3 (ipykernel)",
   "language": "python",
   "name": "python3"
  },
  "language_info": {
   "codemirror_mode": {
    "name": "ipython",
    "version": 3
   },
   "file_extension": ".py",
   "mimetype": "text/x-python",
   "name": "python",
   "nbconvert_exporter": "python",
   "pygments_lexer": "ipython3",
   "version": "3.9.12"
  }
 },
 "nbformat": 4,
 "nbformat_minor": 2
}
