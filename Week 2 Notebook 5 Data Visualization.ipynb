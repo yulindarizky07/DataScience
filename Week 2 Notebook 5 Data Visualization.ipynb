{
 "cells": [
  {
   "cell_type": "markdown",
   "id": "e4547919",
   "metadata": {},
   "source": [
    "# Week 2 Notebook 5 Data Visualization\n",
    "\n",
    "Nama : Yulinda Rizky Angelia Mursalim\n",
    "\n",
    "NIM : E1E121017"
   ]
  },
  {
   "cell_type": "markdown",
   "id": "8cc11e40",
   "metadata": {},
   "source": [
    "## Exercises\n",
    "\n",
    "Let's try some exercises with the `Iris` data set."
   ]
  },
  {
   "cell_type": "code",
   "execution_count": 1,
   "id": "7e63eef2",
   "metadata": {},
   "outputs": [
    {
     "data": {
      "text/html": [
       "<div>\n",
       "<style scoped>\n",
       "    .dataframe tbody tr th:only-of-type {\n",
       "        vertical-align: middle;\n",
       "    }\n",
       "\n",
       "    .dataframe tbody tr th {\n",
       "        vertical-align: top;\n",
       "    }\n",
       "\n",
       "    .dataframe thead th {\n",
       "        text-align: right;\n",
       "    }\n",
       "</style>\n",
       "<table border=\"1\" class=\"dataframe\">\n",
       "  <thead>\n",
       "    <tr style=\"text-align: right;\">\n",
       "      <th></th>\n",
       "      <th>sepallength</th>\n",
       "      <th>sepalwidth</th>\n",
       "      <th>petallength</th>\n",
       "      <th>petalwidth</th>\n",
       "      <th>class</th>\n",
       "    </tr>\n",
       "  </thead>\n",
       "  <tbody>\n",
       "    <tr>\n",
       "      <th>0</th>\n",
       "      <td>5.1</td>\n",
       "      <td>3.5</td>\n",
       "      <td>1.4</td>\n",
       "      <td>0.2</td>\n",
       "      <td>Iris-setosa</td>\n",
       "    </tr>\n",
       "    <tr>\n",
       "      <th>1</th>\n",
       "      <td>4.9</td>\n",
       "      <td>3.0</td>\n",
       "      <td>1.4</td>\n",
       "      <td>0.2</td>\n",
       "      <td>Iris-setosa</td>\n",
       "    </tr>\n",
       "    <tr>\n",
       "      <th>2</th>\n",
       "      <td>4.7</td>\n",
       "      <td>3.2</td>\n",
       "      <td>1.3</td>\n",
       "      <td>0.2</td>\n",
       "      <td>Iris-setosa</td>\n",
       "    </tr>\n",
       "    <tr>\n",
       "      <th>3</th>\n",
       "      <td>4.6</td>\n",
       "      <td>3.1</td>\n",
       "      <td>1.5</td>\n",
       "      <td>0.2</td>\n",
       "      <td>Iris-setosa</td>\n",
       "    </tr>\n",
       "    <tr>\n",
       "      <th>4</th>\n",
       "      <td>5.0</td>\n",
       "      <td>3.6</td>\n",
       "      <td>1.4</td>\n",
       "      <td>0.2</td>\n",
       "      <td>Iris-setosa</td>\n",
       "    </tr>\n",
       "  </tbody>\n",
       "</table>\n",
       "</div>"
      ],
      "text/plain": [
       "   sepallength  sepalwidth  petallength  petalwidth        class\n",
       "0          5.1         3.5          1.4         0.2  Iris-setosa\n",
       "1          4.9         3.0          1.4         0.2  Iris-setosa\n",
       "2          4.7         3.2          1.3         0.2  Iris-setosa\n",
       "3          4.6         3.1          1.5         0.2  Iris-setosa\n",
       "4          5.0         3.6          1.4         0.2  Iris-setosa"
      ]
     },
     "execution_count": 1,
     "metadata": {},
     "output_type": "execute_result"
    }
   ],
   "source": [
    "import pandas as pd\n",
    "import matplotlib.pyplot as plt\n",
    "%matplotlib inline\n",
    "\n",
    "# read the data into a dataframe called irisdf\n",
    "irisdf = pd.read_csv('iris_csv.csv')\n",
    "irisdf.head()"
   ]
  },
  {
   "cell_type": "markdown",
   "id": "282c4d57",
   "metadata": {},
   "source": [
    "**Q1. Basic Scatter Plot**\n",
    "\n",
    "Create a scatter plot with `sepallength` data on the x-axis and `sepalwidth` data on the y-axis, with red dots and no lines. \n",
    "\n",
    "Add a title and label the x-axis and y-axis accordingly."
   ]
  },
  {
   "cell_type": "code",
   "execution_count": 6,
   "id": "136fba32",
   "metadata": {},
   "outputs": [
    {
     "data": {
      "image/png": "[encoded data removed]",
      "text/plain": [
       "<Figure size 432x288 with 1 Axes>"
      ]
     },
     "metadata": {
      "needs_background": "light"
     },
     "output_type": "display_data"
    }
   ],
   "source": [
    "plt.scatter(irisdf['sepallength'], irisdf['sepalwidth'], color='red', marker='.')\n",
    "plt.title('Scatter Plot of Sepal Length vs Sepal Width')\n",
    "plt.xlabel('Sepal Length')\n",
    "plt.ylabel('Sepal Width')\n",
    "plt.show()"
   ]
  },
  {
   "cell_type": "markdown",
   "id": "e499dd27",
   "metadata": {},
   "source": [
    "Let's use the `value_counts()` function to determine the number of `class` of Iris in the data frame."
   ]
  },
  {
   "cell_type": "code",
   "execution_count": 7,
   "id": "0560a339",
   "metadata": {},
   "outputs": [
    {
     "data": {
      "text/plain": [
       "Iris-setosa        50\n",
       "Iris-versicolor    50\n",
       "Iris-virginica     50\n",
       "Name: class, dtype: int64"
      ]
     },
     "execution_count": 7,
     "metadata": {},
     "output_type": "execute_result"
    }
   ],
   "source": [
    "irisdf['class'].value_counts()\n"
   ]
  },
  {
   "cell_type": "markdown",
   "id": "8686b38a",
   "metadata": {},
   "source": [
    "**Q2. Create Subsets** \n",
    "\n",
    "Separate the three classes into three data sets, `setosa`, `versicolor`, and  `virginica`"
   ]
  },
  {
   "cell_type": "code",
   "execution_count": 10,
   "id": "4e0a242f",
   "metadata": {},
   "outputs": [
    {
     "name": "stdout",
     "output_type": "stream",
     "text": [
      "Setosa Data:\n",
      "   sepallength  sepalwidth  petallength  petalwidth        class\n",
      "0          5.1         3.5          1.4         0.2  Iris-setosa\n",
      "1          4.9         3.0          1.4         0.2  Iris-setosa\n",
      "2          4.7         3.2          1.3         0.2  Iris-setosa\n",
      "3          4.6         3.1          1.5         0.2  Iris-setosa\n",
      "4          5.0         3.6          1.4         0.2  Iris-setosa\n",
      "\n",
      "Versicolor Data:\n",
      "    sepallength  sepalwidth  petallength  petalwidth            class\n",
      "50          7.0         3.2          4.7         1.4  Iris-versicolor\n",
      "51          6.4         3.2          4.5         1.5  Iris-versicolor\n",
      "52          6.9         3.1          4.9         1.5  Iris-versicolor\n",
      "53          5.5         2.3          4.0         1.3  Iris-versicolor\n",
      "54          6.5         2.8          4.6         1.5  Iris-versicolor\n",
      "\n",
      "Virginica Data:\n",
      "     sepallength  sepalwidth  petallength  petalwidth           class\n",
      "100          6.3         3.3          6.0         2.5  Iris-virginica\n",
      "101          5.8         2.7          5.1         1.9  Iris-virginica\n",
      "102          7.1         3.0          5.9         2.1  Iris-virginica\n",
      "103          6.3         2.9          5.6         1.8  Iris-virginica\n",
      "104          6.5         3.0          5.8         2.2  Iris-virginica\n"
     ]
    }
   ],
   "source": [
    "setosa = irisdf[irisdf['class'] == 'Iris-setosa']\n",
    "versicolor = irisdf[irisdf['class'] == 'Iris-versicolor']\n",
    "virginica = irisdf[irisdf['class'] == 'Iris-virginica']\n",
    "\n",
    "print(\"Setosa Data:\")\n",
    "print(setosa.head())\n",
    "\n",
    "print(\"\\nVersicolor Data:\")\n",
    "print(versicolor.head())\n",
    "\n",
    "print(\"\\nVirginica Data:\")\n",
    "print(virginica.head())"
   ]
  },
  {
   "cell_type": "markdown",
   "id": "90dc106c",
   "metadata": {},
   "source": [
    "**Q3. Create Scatter Plot**\n",
    "\n",
    "Create the scatter plot to compare the `sepallength` and `sepalwidth` of the three clases. \n",
    "\n",
    "Make the points semi-transparent by setting an alpha value less than 1.\n",
    "\n",
    "Add a legend to show the names of the three classes."
   ]
  },
  {
   "cell_type": "code",
   "execution_count": 11,
   "id": "e96c4dbf",
   "metadata": {},
   "outputs": [
    {
     "data": {
      "image/png": "[encoded data removed]",
      "text/plain": [
       "<Figure size 432x288 with 1 Axes>"
      ]
     },
     "metadata": {
      "needs_background": "light"
     },
     "output_type": "display_data"
    }
   ],
   "source": [
    "setosa = irisdf[irisdf['class'] == 'Iris-setosa']\n",
    "versicolor = irisdf[irisdf['class'] == 'Iris-versicolor']\n",
    "virginica = irisdf[irisdf['class'] == 'Iris-virginica']\n",
    "\n",
    "plt.scatter(setosa['sepallength'], setosa['sepalwidth'], label='Setosa', alpha=0.5)\n",
    "plt.scatter(versicolor['sepallength'], versicolor['sepalwidth'], label='Versicolor', alpha=0.5)\n",
    "plt.scatter(virginica['sepallength'], virginica['sepalwidth'], label='Virginica', alpha=0.5)\n",
    "\n",
    "plt.legend()\n",
    "\n",
    "plt.xlabel('Sepal Length')\n",
    "plt.ylabel('Sepal Width')\n",
    "plt.title('Scatter Plot of Sepal Length vs Sepal Width by Class')\n",
    "\n",
    "plt.show()\n"
   ]
  }
 ],
 "metadata": {
  "kernelspec": {
   "display_name": "Python 3 (ipykernel)",
   "language": "python",
   "name": "python3"
  },
  "language_info": {
   "codemirror_mode": {
    "name": "ipython",
    "version": 3
   },
   "file_extension": ".py",
   "mimetype": "text/x-python",
   "name": "python",
   "nbconvert_exporter": "python",
   "pygments_lexer": "ipython3",
   "version": "3.9.12"
  }
 },
 "nbformat": 4,
 "nbformat_minor": 5
}
